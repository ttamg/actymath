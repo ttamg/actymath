{
 "cells": [
  {
   "attachments": {},
   "cell_type": "markdown",
   "metadata": {},
   "source": [
    "# Custom mortality tables\n",
    "\n",
    "There are some standard old mortality tables built in as available in the [actymath/tables.py](actymath/tables.py) file.\n",
    "\n",
    "When initialising a mortality table, the system processes the data into a format that allows it to be used in the calculations.\n",
    "\n",
    "This notebook shows how to create mortality tables from custom data.\n",
    "\n",
    "Note we can build mortality tables from data that provides $l_x$ or $q_x$ values.\n"
   ]
  },
  {
   "cell_type": "code",
   "execution_count": 1,
   "metadata": {},
   "outputs": [],
   "source": [
    "import pandas as pd\n",
    "\n",
    "pd.set_option(\"display.max_columns\", 200)\n"
   ]
  },
  {
   "attachments": {},
   "cell_type": "markdown",
   "metadata": {},
   "source": [
    "## Creating a 1D mortality table from CSV file\n",
    "\n",
    "We will use the data in [actymath/table_data/test.csv](actymath/table_data/test.csv) to create a 1D mortality table.\n",
    "\n",
    "- This a table of $q_x$ values\n",
    "- The age column is titled `Age x`\n",
    "- The mortality value column is titled `q x`\n",
    "\n",
    "To create our mortality table in `actymath` we put together a table structure mixin with a mortality table class.\n",
    "\n",
    "We need to define the path, filename and naming of the important columns in the CSV file as attributes of this class. Then when we initialise it, we will have a mortality table object.\n"
   ]
  },
  {
   "cell_type": "code",
   "execution_count": 2,
   "metadata": {},
   "outputs": [],
   "source": [
    "from actymath.tables import OneDimensionTableMixIn, CSVMortalityTable\n",
    "\n",
    "\n",
    "class TestMortalityTable(OneDimensionTableMixIn, CSVMortalityTable):\n",
    "    path = \"actymath/table_data\"\n",
    "    filename = \"test.csv\"\n",
    "    age_column = \"Age x\"\n",
    "    table_type = \"qx\"\n",
    "    value_columns = [\"q x\"]\n",
    "\n",
    "\n",
    "table = TestMortalityTable()"
   ]
  },
  {
   "attachments": {},
   "cell_type": "markdown",
   "metadata": {},
   "source": [
    "## Creating a table from Pandas DataFrame\n",
    "\n",
    "We can also initialise a mortality table from a Pandas dataframe of values.\n"
   ]
  },
  {
   "cell_type": "code",
   "execution_count": 3,
   "metadata": {},
   "outputs": [
    {
     "data": {
      "text/html": [
       "<div>\n",
       "<style scoped>\n",
       "    .dataframe tbody tr th:only-of-type {\n",
       "        vertical-align: middle;\n",
       "    }\n",
       "\n",
       "    .dataframe tbody tr th {\n",
       "        vertical-align: top;\n",
       "    }\n",
       "\n",
       "    .dataframe thead th {\n",
       "        text-align: right;\n",
       "    }\n",
       "</style>\n",
       "<table border=\"1\" class=\"dataframe\">\n",
       "  <thead>\n",
       "    <tr style=\"text-align: right;\">\n",
       "      <th></th>\n",
       "      <th>Age x</th>\n",
       "      <th>q x</th>\n",
       "    </tr>\n",
       "  </thead>\n",
       "  <tbody>\n",
       "    <tr>\n",
       "      <th>0</th>\n",
       "      <td>17</td>\n",
       "      <td>0.000458</td>\n",
       "    </tr>\n",
       "    <tr>\n",
       "      <th>1</th>\n",
       "      <td>18</td>\n",
       "      <td>0.000459</td>\n",
       "    </tr>\n",
       "    <tr>\n",
       "      <th>2</th>\n",
       "      <td>19</td>\n",
       "      <td>0.000462</td>\n",
       "    </tr>\n",
       "    <tr>\n",
       "      <th>3</th>\n",
       "      <td>20</td>\n",
       "      <td>0.000464</td>\n",
       "    </tr>\n",
       "    <tr>\n",
       "      <th>4</th>\n",
       "      <td>21</td>\n",
       "      <td>0.000467</td>\n",
       "    </tr>\n",
       "  </tbody>\n",
       "</table>\n",
       "</div>"
      ],
      "text/plain": [
       "   Age x       q x\n",
       "0     17  0.000458\n",
       "1     18  0.000459\n",
       "2     19  0.000462\n",
       "3     20  0.000464\n",
       "4     21  0.000467"
      ]
     },
     "execution_count": 3,
     "metadata": {},
     "output_type": "execute_result"
    }
   ],
   "source": [
    "df = pd.read_csv(\"actymath/table_data/test.csv\")\n",
    "\n",
    "df.head()\n"
   ]
  },
  {
   "cell_type": "code",
   "execution_count": 4,
   "metadata": {},
   "outputs": [],
   "source": [
    "from actymath.tables import OneDimensionTableMixIn, PandasMortalityTable\n",
    "\n",
    "\n",
    "class AnotherTestMortalityTable(OneDimensionTableMixIn, PandasMortalityTable):\n",
    "    age_column = \"Age x\"\n",
    "    table_type = \"qx\"\n",
    "    value_columns = [\"q x\"]\n",
    "\n",
    "\n",
    "another_table = AnotherTestMortalityTable(df)"
   ]
  },
  {
   "attachments": {},
   "cell_type": "markdown",
   "metadata": {},
   "source": [
    "This generates the same table but from the pandas DataFrame representation\n"
   ]
  },
  {
   "cell_type": "code",
   "execution_count": 5,
   "metadata": {},
   "outputs": [],
   "source": [
    "assert table.data == another_table.data\n",
    "assert table.age_index == another_table.age_index\n"
   ]
  },
  {
   "attachments": {},
   "cell_type": "markdown",
   "metadata": {},
   "source": [
    "## Two dimensional tables\n",
    "\n",
    "These can also be created from data. See the [actymath/tables.py](actymath/tables.py) file for examples of 2D tables\n"
   ]
  },
  {
   "cell_type": "code",
   "execution_count": null,
   "metadata": {},
   "outputs": [],
   "source": []
  }
 ],
 "metadata": {
  "kernelspec": {
   "display_name": ".venv",
   "language": "python",
   "name": "python3"
  },
  "language_info": {
   "codemirror_mode": {
    "name": "ipython",
    "version": 3
   },
   "file_extension": ".py",
   "mimetype": "text/x-python",
   "name": "python",
   "nbconvert_exporter": "python",
   "pygments_lexer": "ipython3",
   "version": "3.10.6"
  },
  "orig_nbformat": 4
 },
 "nbformat": 4,
 "nbformat_minor": 2
}
